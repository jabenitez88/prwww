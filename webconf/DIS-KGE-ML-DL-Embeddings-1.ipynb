{
 "cells": [
  {
   "cell_type": "markdown",
   "metadata": {},
   "source": [
    "# Combining Knowledge Graphs and Deep Learning techniques for Categorizing Tweets\n",
    "## Random Forest vs RNN vs Bi-LSTM\n",
    "\n",
    "\n",
    "Authors:\n",
    "\n",
    "Experiments:\n",
    "* Applying RF, RNN and Bi-LSTM models to 2 datasets for classifying 4 binary categories.\n",
    "* 2 datatasets: (i) textual information and (ii) textual information and embeddings obtained from knowledge graph exploitation (KGE).\n",
    " \n",
    " \n",
    "## 1. Random Forest"
   ]
  },
  {
   "cell_type": "code",
   "execution_count": 1,
   "metadata": {},
   "outputs": [
    {
     "name": "stderr",
     "output_type": "stream",
     "text": [
      "C:\\Users\\MICROSOFT\\Anaconda3\\envs\\tib1\\lib\\site-packages\\IPython\\core\\interactiveshell.py:3444: FutureWarning: The error_bad_lines argument has been deprecated and will be removed in a future version.\n",
      "\n",
      "\n",
      "  exec(code_obj, self.user_global_ns, self.user_ns)\n"
     ]
    }
   ],
   "source": [
    "import os\n",
    "import pandas as pd\n",
    "import numpy as np\n",
    "import json\n",
    "from collections import Counter\n",
    "from wordcloud import WordCloud\n",
    "import matplotlib.pyplot as plt\n",
    "import re, string, unicodedata\n",
    "import nltk\n",
    "from nltk import word_tokenize, sent_tokenize, FreqDist\n",
    "from nltk.corpus import stopwords\n",
    "from nltk.stem import LancasterStemmer, WordNetLemmatizer\n",
    "nltk.download\n",
    "from ast import literal_eval\n",
    "tweets = pd.read_csv('dis-dataset-falcon_spacy2-embeddings-sentence-md4.csv', sep=';', encoding='utf8', converters=\n",
    "                           {\n",
    "                            'falcon_spacy_embeddingsmd4_mw50_RW':literal_eval,\n",
    "                           'sent_embedding_1':literal_eval},error_bad_lines=False)"
   ]
  },
  {
   "cell_type": "code",
   "execution_count": 3,
   "metadata": {},
   "outputs": [],
   "source": [
    "import pandas as pd\n",
    "import numpy as np\n",
    "import spacy\n",
    "import nltk\n",
    "import nltk.data\n",
    "from nltk.tokenize import word_tokenize\n",
    "from nltk.stem import SnowballStemmer\n",
    "import regex as re\n",
    "import string\n",
    "from collections import defaultdict\n",
    "import matplotlib.pyplot as plt\n",
    "import seaborn as sns\n",
    "pd.set_option('display.max_colwidth', None)\n",
    "import sklearn\n",
    "from sklearn.model_selection import train_test_split\n",
    "from sklearn.metrics import f1_score, accuracy_score\n",
    "from simpletransformers.classification import ClassificationModel\n",
    "import io\n",
    "\n",
    "punctuations = \"¡!#$%&'()*+,-./:;<=>¿?@[\\]^_`{|}~\"\n",
    "def read_txt(filename):\n",
    "    list = []\n",
    "    with open(filename, 'r', encoding='utf-8') as f:\n",
    "        data = f.readlines()\n",
    "        for line in data:\n",
    "            list.append(str(line).replace('\\n', ''))\n",
    "    return list\n",
    "\n",
    "stopwords = read_txt('english_stopwords.txt')\n",
    "stemmer = SnowballStemmer('english')\n",
    "def clean_accents(tweet):\n",
    "    tweet = re.sub(r\"[àáâãäå]\", \"a\", tweet)\n",
    "    tweet = re.sub(r\"ç\", \"c\", tweet)\n",
    "    tweet = re.sub(r\"[èéêë]\", \"e\", tweet)\n",
    "    tweet = re.sub(r\"[ìíîï]\", \"i\", tweet)\n",
    "    tweet = re.sub(r\"[òóôõö]\", \"o\", tweet)\n",
    "    tweet = re.sub(r\"[ùúûü]\", \"u\", tweet)\n",
    "    tweet = re.sub(r\"[ýÿ]\", \"y\", tweet)\n",
    "\n",
    "    return tweet\n",
    "\n",
    "def clean_tweet(tweet, stem = False):\n",
    "    tweet = tweet.lower().strip()\n",
    "    tweet = re.sub(r'https?:\\/\\/\\S+', '', tweet)\n",
    "    tweet = re.sub(r'http?:\\/\\/\\S+', '', tweet)\n",
    "    tweet = re.sub(r'www?:\\/\\/\\S+', '', tweet)\n",
    "    tweet = re.sub(r'\\s([@#][\\w_-]+)', \"\", tweet)\n",
    "    tweet = re.sub(r\"\\n\", \" \", tweet)\n",
    "    tweet = clean_accents(tweet)\n",
    "    tweet = re.sub(r\"\\b(a*ha+h[ha]*|o?l+o+l+[ol]*|x+d+[x*d*]*|a*ja+[j+a+]+)\\b\", \"<risas>\", tweet)\n",
    "    for symbol in punctuations:\n",
    "        tweet = tweet.replace(symbol, \"\")\n",
    "    tokens = []\n",
    "    for token in tweet.strip().split():\n",
    "        if token not in punctuations and token not in stopwords:\n",
    "            if stem:\n",
    "                tokens.append(stemmer.stem(token))\n",
    "            else:\n",
    "                tokens.append(token)\n",
    "    return \" \".join(tokens)"
   ]
  },
  {
   "cell_type": "code",
   "execution_count": 4,
   "metadata": {},
   "outputs": [],
   "source": [
    "# \tid\ttext_orig\tED_Patient\tProED\tinformative\tscientific\thashtags\t\n",
    "# entities_instances_wikidata\tspacy_entities_ids\tspacy_entities_labels\t\n",
    "# falcon_spacy_entities\tfalcon_spacy_labels\tfalcon_spacy_embeddingsmd2_mw50_RW\t\n",
    "# falcon_spacy_embeddingsmd2_mw100_RW\tsent_embedding_1\tsent_embedding_2\n",
    "\n",
    "cols = ['id','text_orig','ED_Patient','ProED','informative','scientific','hashtag','entities_instances_wikidata','spacy_entities_ids','spacy_entities_labels','falcon_spacy_entities'\n",
    "       ,'falcon_spacy_labels','falcon_spacy_embeddingsmd2_mw50_RW','falcon_spacy_embeddingsmd2_mw100_RW','sent_embedding_1','sent_embedding_2']\n",
    "\n",
    "\n",
    "cols = ['id','keyword','location','text','target','falcon2_wd_entities_labels','falcon2_wd_entities_ids','falcon2_wd_relations_ids','falcon2_wd_relations_labels','spacy_wd_entities_ids','spacy_wd_entities_urls','spacy_wd_entities_labels','falcon2_wd_entities_ids_cleaned','falcon2_wd_entities_labels_cleaned','falcon_spacy_embeddingsmd4_mw50_RW','sent_embedding_1']\n"
   ]
  },
  {
   "cell_type": "code",
   "execution_count": 5,
   "metadata": {},
   "outputs": [],
   "source": [
    "tweets1 = tweets.copy()\n",
    "# .drop(['entities_instances_wikidata','spacy_entities_ids','spacy_entities_labels'], axis=1)\n",
    "\n",
    "tweets1['text_cleaned'] = tweets['text'].apply(lambda s : clean_tweet(s))\n",
    "#print(tweets1['text_cleaned'].head(5))"
   ]
  },
  {
   "cell_type": "code",
   "execution_count": 6,
   "metadata": {},
   "outputs": [
    {
     "name": "stdout",
     "output_type": "stream",
     "text": [
      "Combining features ...\n",
      "  DONE.\n",
      "Dataset contains 7,309 samples.\n"
     ]
    }
   ],
   "source": [
    "# This will hold all of the dataset samples, as strings.\n",
    "sen_w_feats = []\n",
    "\n",
    "# The labels for the samples.\n",
    "labels = []\n",
    "\n",
    "# First, reload the dataset to undo the transformations we applied for XGBoost.\n",
    "data_df = tweets.copy()\n",
    "\n",
    "# Some of the reviews are missing either a \"Title\" or \"Review Text\", so we'll \n",
    "# replace the NaN values with empty string.\n",
    "data_df = data_df.fillna(\"\")\n",
    "\n",
    "# Combining features following https://mccormickml.com/2021/06/29/combining-categorical-numerical-features-with-bert/\n",
    "print('Combining features ...')\n",
    "\n",
    "# For each of the samples...\n",
    "for index, row in data_df.iterrows():\n",
    "\n",
    "    # Piece it together...    \n",
    "    combined = row[\"text\"]\n",
    "    combined += \" {:} \".format(row[\"sent_embedding_1\"])\n",
    "    \n",
    "    # Add the combined text to the list.\n",
    "    sen_w_feats.append(combined)\n",
    "\n",
    "    # Also record the sample's label.\n",
    "    labels.append(row[\"target\"])\n",
    "\n",
    "print('  DONE.')\n",
    "\n",
    "print('Dataset contains {:,} samples.'.format(len(sen_w_feats)))\n",
    "\n"
   ]
  },
  {
   "cell_type": "markdown",
   "metadata": {},
   "source": [
    "Preparing data to train and test RF models using original dataset and (original dataset+KGE)"
   ]
  },
  {
   "cell_type": "code",
   "execution_count": 7,
   "metadata": {},
   "outputs": [
    {
     "name": "stderr",
     "output_type": "stream",
     "text": [
      "[nltk_data] Downloading package stopwords to\n",
      "[nltk_data]     C:\\Users\\MICROSOFT\\AppData\\Roaming\\nltk_data...\n",
      "[nltk_data]   Package stopwords is already up-to-date!\n"
     ]
    }
   ],
   "source": [
    "import numpy as np\n",
    "import re\n",
    "import nltk\n",
    "from sklearn.datasets import load_files\n",
    "nltk.download('stopwords')\n",
    "import pickle\n",
    "from nltk.corpus import stopwords\n",
    "df = tweets1.copy()\n",
    "X = df['text_cleaned']\n",
    "Xc = sen_w_feats\n",
    "\n",
    "#X = np.array(df['falcon_spacy_labels'].tolist())\n",
    "\n",
    "Y1 = df['target']\n",
    "\n",
    "\n",
    "documents = []\n",
    "\n",
    "from nltk.stem import WordNetLemmatizer\n",
    "\n",
    "stemmer = WordNetLemmatizer()\n",
    "\n",
    "for sen in range(0, len(X)):\n",
    "    # Remove all the special characters\n",
    "    document = re.sub(r'\\W', ' ', str(X[sen]))\n",
    "    \n",
    "    # remove all single characters\n",
    "    document = re.sub(r'\\s+[a-zA-Z]\\s+', ' ', document)\n",
    "    \n",
    "    # Remove single characters from the start\n",
    "    document = re.sub(r'\\^[a-zA-Z]\\s+', ' ', document) \n",
    "    \n",
    "    # Substituting multiple spaces with single space\n",
    "    document = re.sub(r'\\s+', ' ', document, flags=re.I)\n",
    "    \n",
    "    # Removing prefixed 'b'\n",
    "    document = re.sub(r'^b\\s+', '', document)\n",
    "    \n",
    "    # Converting to Lowercase\n",
    "    document = document.lower()\n",
    "    \n",
    "    # Lemmatization\n",
    "    document = document.split()\n",
    "\n",
    "    document = [stemmer.lemmatize(word) for word in document]\n",
    "    document = ' '.join(document)\n",
    "    \n",
    "    documents.append(document)\n",
    "    \n",
    "documents2 = []\n",
    "\n",
    "stemmer = WordNetLemmatizer()\n",
    "\n",
    "for sen in range(0, len(Xc)):\n",
    "    # Remove all the special characters\n",
    "    document = re.sub(r'\\W', ' ', str(Xc[sen]))\n",
    "    \n",
    "    # remove all single characters\n",
    "    document = re.sub(r'\\s+[a-zA-Z]\\s+', ' ', document)\n",
    "    \n",
    "    # Remove single characters from the start\n",
    "    document = re.sub(r'\\^[a-zA-Z]\\s+', ' ', document) \n",
    "    \n",
    "    # Substituting multiple spaces with single space\n",
    "    document = re.sub(r'\\s+', ' ', document, flags=re.I)\n",
    "    \n",
    "    # Removing prefixed 'b'\n",
    "    document = re.sub(r'^b\\s+', '', document)\n",
    "    \n",
    "    # Converting to Lowercase\n",
    "    document = document.lower()\n",
    "    \n",
    "    # Lemmatization\n",
    "    document = document.split()\n",
    "\n",
    "    document = [stemmer.lemmatize(word) for word in document]\n",
    "    document = ' '.join(document)\n",
    "    \n",
    "    documents2.append(document)"
   ]
  },
  {
   "cell_type": "code",
   "execution_count": 8,
   "metadata": {},
   "outputs": [],
   "source": [
    "from sklearn.feature_extraction.text import CountVectorizer\n",
    "vectorizer = CountVectorizer(max_features=1500, min_df=5, max_df=0.7, stop_words=stopwords.words('english'))\n",
    "X = vectorizer.fit_transform(documents).toarray()\n",
    "from sklearn.feature_extraction.text import TfidfTransformer\n",
    "tfidfconverter = TfidfTransformer()\n",
    "X = tfidfconverter.fit_transform(X).toarray()\n",
    "\n",
    "\n",
    "# Xc is Dataset + KGE information\n",
    "vectorizer = CountVectorizer(max_features=1500, min_df=5, max_df=0.7, stop_words=stopwords.words('english'))\n",
    "Xc = vectorizer.fit_transform(documents2).toarray()\n",
    "tfidfconverter = TfidfTransformer()\n",
    "Xc = tfidfconverter.fit_transform(Xc).toarray()"
   ]
  },
  {
   "cell_type": "markdown",
   "metadata": {},
   "source": [
    "### 1.1. RF Applied to Category I - Tweets written by people suffering from eating disorders"
   ]
  },
  {
   "cell_type": "code",
   "execution_count": 9,
   "metadata": {},
   "outputs": [
    {
     "name": "stdout",
     "output_type": "stream",
     "text": [
      "[[1071  162]\n",
      " [ 316  644]]\n",
      "              precision    recall  f1-score   support\n",
      "\n",
      "         0.0       0.77      0.87      0.82      1233\n",
      "         1.0       0.80      0.67      0.73       960\n",
      "\n",
      "    accuracy                           0.78      2193\n",
      "   macro avg       0.79      0.77      0.77      2193\n",
      "weighted avg       0.78      0.78      0.78      2193\n",
      "\n",
      "0.7820337437300502\n",
      "[[1019  214]\n",
      " [ 289  671]]\n",
      "              precision    recall  f1-score   support\n",
      "\n",
      "         0.0       0.78      0.83      0.80      1233\n",
      "         1.0       0.76      0.70      0.73       960\n",
      "\n",
      "    accuracy                           0.77      2193\n",
      "   macro avg       0.77      0.76      0.76      2193\n",
      "weighted avg       0.77      0.77      0.77      2193\n",
      "\n",
      "0.7706338349293206\n"
     ]
    }
   ],
   "source": [
    "from sklearn.ensemble import RandomForestClassifier\n",
    "\n",
    "X1_train, X1_test, y1_train, y1_test = train_test_split(Xc, Y1, test_size=0.3, random_state=42)\n",
    "classifier = RandomForestClassifier(n_estimators=1000, random_state=42)\n",
    "classifier.fit(X1_train, y1_train) \n",
    "\n",
    "y1_pred = classifier.predict(X1_test)\n",
    "\n",
    "from sklearn.metrics import classification_report, confusion_matrix, accuracy_score\n",
    "\n",
    "print(confusion_matrix(y1_test,y1_pred))\n",
    "print(classification_report(y1_test,y1_pred))\n",
    "print(accuracy_score(y1_test, y1_pred))\n",
    "\n",
    "\n",
    "from sklearn.ensemble import RandomForestClassifier\n",
    "\n",
    "X1_train, X1_test, y1_train, y1_test = train_test_split(X, Y1, test_size=0.3, random_state=42)\n",
    "classifier = RandomForestClassifier(n_estimators=1000, random_state=42)\n",
    "classifier.fit(X1_train, y1_train) \n",
    "\n",
    "y1_pred = classifier.predict(X1_test)\n",
    "\n",
    "from sklearn.metrics import classification_report, confusion_matrix, accuracy_score\n",
    "\n",
    "print(confusion_matrix(y1_test,y1_pred))\n",
    "print(classification_report(y1_test,y1_pred))\n",
    "print(accuracy_score(y1_test, y1_pred))"
   ]
  },
  {
   "cell_type": "markdown",
   "metadata": {},
   "source": [
    "### 1.2. RF Applied to Category II - Tweets promotiong Eating Disorders"
   ]
  },
  {
   "cell_type": "code",
   "execution_count": null,
   "metadata": {},
   "outputs": [],
   "source": []
  },
  {
   "cell_type": "code",
   "execution_count": null,
   "metadata": {},
   "outputs": [],
   "source": []
  },
  {
   "cell_type": "code",
   "execution_count": null,
   "metadata": {},
   "outputs": [],
   "source": []
  },
  {
   "cell_type": "code",
   "execution_count": null,
   "metadata": {},
   "outputs": [],
   "source": []
  },
  {
   "cell_type": "markdown",
   "metadata": {},
   "source": [
    "## 2. Recurrent Neural Network (RNN)"
   ]
  },
  {
   "cell_type": "code",
   "execution_count": 10,
   "metadata": {},
   "outputs": [],
   "source": [
    "import pandas as pd\n",
    "import numpy as np\n",
    "import matplotlib.pyplot as plt\n",
    "import seaborn as sns\n",
    "from sklearn.model_selection import train_test_split\n",
    "from sklearn.preprocessing import LabelEncoder\n",
    "from keras.models import Model\n",
    "from keras.layers import LSTM, Activation, Dense, Dropout, Input, Embedding\n",
    "from keras.optimizers import RMSprop\n",
    "from keras.preprocessing.text import Tokenizer\n",
    "from keras.preprocessing import sequence\n",
    "from keras.utils import to_categorical\n",
    "from keras.callbacks import EarlyStopping\n",
    "%matplotlib inline"
   ]
  },
  {
   "cell_type": "code",
   "execution_count": 12,
   "metadata": {},
   "outputs": [],
   "source": [
    "df = tweets1.copy()\n",
    "\n",
    "X_orig = df['text_cleaned']\n",
    "X_b = np.array(df['sent_embedding_1'].tolist())\n",
    "X_b = np.asarray(X_b, dtype=np.float32)\n",
    "\n",
    "Y1 = df['target']\n"
   ]
  },
  {
   "cell_type": "code",
   "execution_count": 13,
   "metadata": {},
   "outputs": [],
   "source": [
    "max_words = 1000\n",
    "max_len = 100\n",
    "tok = Tokenizer(num_words=max_words)\n",
    "tok.fit_on_texts(X_orig)\n",
    "sequences = tok.texts_to_sequences(X_orig)\n",
    "X_c = sequence.pad_sequences(sequences,maxlen=max_len)"
   ]
  },
  {
   "cell_type": "code",
   "execution_count": 14,
   "metadata": {},
   "outputs": [
    {
     "data": {
      "text/plain": [
       "(7309, 100)"
      ]
     },
     "execution_count": 14,
     "metadata": {},
     "output_type": "execute_result"
    }
   ],
   "source": [
    "X_c.shape"
   ]
  },
  {
   "cell_type": "code",
   "execution_count": 15,
   "metadata": {},
   "outputs": [
    {
     "data": {
      "text/plain": [
       "(7309, 100)"
      ]
     },
     "execution_count": 15,
     "metadata": {},
     "output_type": "execute_result"
    }
   ],
   "source": [
    "X_b.shape"
   ]
  },
  {
   "cell_type": "code",
   "execution_count": 16,
   "metadata": {},
   "outputs": [],
   "source": [
    "X = np.zeros((7309,200))\n",
    "for i in range(7309):\n",
    "    X[i] = np.concatenate((X_b[i],X_c[i]))"
   ]
  },
  {
   "cell_type": "code",
   "execution_count": 17,
   "metadata": {},
   "outputs": [],
   "source": [
    "max_len=1000\n",
    "def RNN():\n",
    "    inputs = Input(name='inputs',shape=[max_len])\n",
    "    layer = Embedding(max_words,100,input_length=max_len)(inputs)\n",
    "    layer = LSTM(100)(layer)\n",
    "    layer = Dense(256,name='FC1')(layer)\n",
    "    layer = Activation('relu')(layer)\n",
    "    layer = Dropout(0.1)(layer)\n",
    "    layer = Dense(1,name='out_layer')(layer)\n",
    "    layer = Activation('sigmoid')(layer)\n",
    "    model = Model(inputs=inputs,outputs=layer)\n",
    "    return model"
   ]
  },
  {
   "cell_type": "code",
   "execution_count": 18,
   "metadata": {},
   "outputs": [],
   "source": [
    "from sklearn.metrics import confusion_matrix\n",
    "'''y1_pred = model.predict(X1_test)\n",
    "y1_pred = np.argmax(y1_pred, axis=1)\n",
    "conf_mat = confusion_matrix(y1_test, y1_pred)'''\n",
    "from keras import backend as K\n",
    "\n",
    "def recall_m(y_true, y_pred):\n",
    "    true_positives = K.sum(K.round(K.clip(y_true * y_pred, 0, 1)))\n",
    "    possible_positives = K.sum(K.round(K.clip(y_true, 0, 1)))\n",
    "    recall = true_positives / (possible_positives + K.epsilon())\n",
    "    return recall\n",
    "\n",
    "def precision_m(y_true, y_pred):\n",
    "    true_positives = K.sum(K.round(K.clip(y_true * y_pred, 0, 1)))\n",
    "    predicted_positives = K.sum(K.round(K.clip(y_pred, 0, 1)))\n",
    "    precision = true_positives / (predicted_positives + K.epsilon())\n",
    "    return precision\n",
    "\n",
    "def f1_m(y_true, y_pred):\n",
    "    precision = precision_m(y_true, y_pred)\n",
    "    recall = recall_m(y_true, y_pred)\n",
    "    return 2*((precision*recall)/(precision+recall+K.epsilon()))"
   ]
  },
  {
   "cell_type": "markdown",
   "metadata": {},
   "source": [
    "### 2.1. RNN Applied to Category I - Tweets written by people suffering from eating disorders"
   ]
  },
  {
   "cell_type": "code",
   "execution_count": 19,
   "metadata": {},
   "outputs": [
    {
     "name": "stdout",
     "output_type": "stream",
     "text": [
      "Model: \"functional_1\"\n",
      "_________________________________________________________________\n",
      "Layer (type)                 Output Shape              Param #   \n",
      "=================================================================\n",
      "inputs (InputLayer)          [(None, 200)]             0         \n",
      "_________________________________________________________________\n",
      "embedding (Embedding)        (None, 200, 100)          100000    \n",
      "_________________________________________________________________\n",
      "lstm (LSTM)                  (None, 100)               80400     \n",
      "_________________________________________________________________\n",
      "FC1 (Dense)                  (None, 256)               25856     \n",
      "_________________________________________________________________\n",
      "activation (Activation)      (None, 256)               0         \n",
      "_________________________________________________________________\n",
      "dropout (Dropout)            (None, 256)               0         \n",
      "_________________________________________________________________\n",
      "out_layer (Dense)            (None, 1)                 257       \n",
      "_________________________________________________________________\n",
      "activation_1 (Activation)    (None, 1)                 0         \n",
      "=================================================================\n",
      "Total params: 206,513\n",
      "Trainable params: 206,513\n",
      "Non-trainable params: 0\n",
      "_________________________________________________________________\n",
      "Epoch 1/10\n",
      "28/28 [==============================] - 12s 444ms/step - loss: 0.6274 - acc: 0.6590 - f1_m: 0.4410 - precision_m: 0.6483 - recall_m: 0.3782 - val_loss: 0.5394 - val_acc: 0.7479 - val_f1_m: 0.6688 - val_precision_m: 0.7875 - val_recall_m: 0.5829\n",
      "Epoch 2/10\n",
      "28/28 [==============================] - 11s 400ms/step - loss: 0.4456 - acc: 0.7948 - f1_m: 0.7479 - precision_m: 0.8125 - recall_m: 0.7019 - val_loss: 0.5132 - val_acc: 0.7616 - val_f1_m: 0.7378 - val_precision_m: 0.7125 - val_recall_m: 0.7673\n",
      "Epoch 3/10\n",
      "28/28 [==============================] - 12s 415ms/step - loss: 0.3952 - acc: 0.8232 - f1_m: 0.7885 - precision_m: 0.8334 - recall_m: 0.7556 - val_loss: 0.5354 - val_acc: 0.7564 - val_f1_m: 0.7369 - val_precision_m: 0.7000 - val_recall_m: 0.7795\n",
      "Test set\n",
      "  Loss: 0.498\n",
      "  Accuracy: 0.756\n",
      " fº 0.730\n",
      "Model: \"functional_3\"\n",
      "_________________________________________________________________\n",
      "Layer (type)                 Output Shape              Param #   \n",
      "=================================================================\n",
      "inputs (InputLayer)          [(None, 200)]             0         \n",
      "_________________________________________________________________\n",
      "embedding_1 (Embedding)      (None, 200, 100)          100000    \n",
      "_________________________________________________________________\n",
      "lstm_1 (LSTM)                (None, 100)               80400     \n",
      "_________________________________________________________________\n",
      "FC1 (Dense)                  (None, 256)               25856     \n",
      "_________________________________________________________________\n",
      "activation_2 (Activation)    (None, 256)               0         \n",
      "_________________________________________________________________\n",
      "dropout_1 (Dropout)          (None, 256)               0         \n",
      "_________________________________________________________________\n",
      "out_layer (Dense)            (None, 1)                 257       \n",
      "_________________________________________________________________\n",
      "activation_3 (Activation)    (None, 1)                 0         \n",
      "=================================================================\n",
      "Total params: 206,513\n",
      "Trainable params: 206,513\n",
      "Non-trainable params: 0\n",
      "_________________________________________________________________\n",
      "Epoch 1/10\n",
      "28/28 [==============================] - 12s 429ms/step - loss: 0.6297 - acc: 0.6579 - f1_m: 0.4411 - precision_m: 0.7758 - recall_m: 0.3709 - val_loss: 0.5284 - val_acc: 0.7453 - val_f1_m: 0.6877 - val_precision_m: 0.7436 - val_recall_m: 0.6414\n",
      "Epoch 2/10\n",
      "28/28 [==============================] - 11s 391ms/step - loss: 0.4548 - acc: 0.7948 - f1_m: 0.7499 - precision_m: 0.8117 - recall_m: 0.7103 - val_loss: 0.4980 - val_acc: 0.7746 - val_f1_m: 0.7167 - val_precision_m: 0.7975 - val_recall_m: 0.6519\n",
      "Epoch 3/10\n",
      "28/28 [==============================] - 11s 401ms/step - loss: 0.3969 - acc: 0.8176 - f1_m: 0.7804 - precision_m: 0.8269 - recall_m: 0.7454 - val_loss: 0.5129 - val_acc: 0.7707 - val_f1_m: 0.7196 - val_precision_m: 0.7748 - val_recall_m: 0.6733\n",
      "Test set\n",
      "  Loss: 0.470\n",
      "  Accuracy: 0.786\n",
      " fº 0.733\n"
     ]
    }
   ],
   "source": [
    "# CATEGORY 1\n",
    "\n",
    "X1_train, X1_test, y1_train, y1_test = train_test_split(X, Y1, test_size=0.3, random_state=42)\n",
    "\n",
    "max_words = 1000\n",
    "max_len = 200\n",
    "#tok = Tokenizer(num_words=max_words)\n",
    "#tok.fit_on_texts(X1_train)\n",
    "#sequences = tok.texts_to_sequences(X1_train)\n",
    "sequences_matrix = X1_train\n",
    "model = RNN()\n",
    "model.summary()\n",
    "model.compile(loss='binary_crossentropy',optimizer=RMSprop(),metrics=['acc',f1_m,precision_m, recall_m])\n",
    "model.fit(sequences_matrix,y1_train,batch_size=128,epochs=10,\n",
    "          validation_split=0.3,callbacks=[EarlyStopping(monitor='val_loss',min_delta=0.0001)])\n",
    "#test_sequences = X1_test\n",
    "test_sequences_matrix = X1_test\n",
    "#accr = model.evaluate(test_sequences_matrix,y1_test)\n",
    "loss, accuracy, f1_score, precision, recall = model.evaluate(X1_test, y1_test, verbose=0)\n",
    "\n",
    "#print('Test set\\n  Loss: {:0.3f}\\n  Accuracy: {:0.3f}'.format(accr[0],accr[1]))\n",
    "print('Test set\\n  Loss: {:0.3f}\\n  Accuracy: {:0.3f}\\n fº {:0.3f}'.format(loss,accuracy,f1_score))\n",
    "\n",
    "\n",
    "X1_train, X1_test, y1_train, y1_test = train_test_split(X_orig, Y1, test_size=0.3, random_state=42)\n",
    "\n",
    "max_words = 1000\n",
    "max_len = 200\n",
    "tok = Tokenizer(num_words=max_words)\n",
    "tok.fit_on_texts(X1_train)\n",
    "sequences = tok.texts_to_sequences(X1_train)\n",
    "sequences_matrix = sequence.pad_sequences(sequences,maxlen=max_len)\n",
    "model = RNN()\n",
    "model.summary()\n",
    "model.compile(loss='binary_crossentropy',optimizer=RMSprop(),metrics=['acc',f1_m,precision_m, recall_m])\n",
    "model.fit(sequences_matrix,y1_train,batch_size=128,epochs=10,\n",
    "          validation_split=0.3,callbacks=[EarlyStopping(monitor='val_loss',min_delta=0.0001)])\n",
    "test_sequences = tok.texts_to_sequences(X1_test)\n",
    "test_sequences_matrix = sequence.pad_sequences(test_sequences,maxlen=max_len)\n",
    "#accr = model.evaluate(test_sequences_matrix,y1_test)\n",
    "loss, accuracy, f1_score, precision, recall = model.evaluate(test_sequences_matrix, y1_test, verbose=0)\n",
    "print('Test set\\n  Loss: {:0.3f}\\n  Accuracy: {:0.3f}\\n fº {:0.3f}'.format(loss,accuracy,f1_score))"
   ]
  },
  {
   "cell_type": "markdown",
   "metadata": {},
   "source": [
    "### 2.2. RNN Applied to Category II - Tweets promotiong Eating Disorders"
   ]
  },
  {
   "cell_type": "code",
   "execution_count": null,
   "metadata": {},
   "outputs": [],
   "source": []
  },
  {
   "cell_type": "code",
   "execution_count": null,
   "metadata": {},
   "outputs": [],
   "source": []
  },
  {
   "cell_type": "code",
   "execution_count": null,
   "metadata": {},
   "outputs": [],
   "source": []
  },
  {
   "cell_type": "markdown",
   "metadata": {},
   "source": [
    "## 3. Bi-LSTM"
   ]
  },
  {
   "cell_type": "markdown",
   "metadata": {},
   "source": [
    "### 3.1. Bi-LSTM Applied to Category I - Tweets written by people suffering from eating disorders"
   ]
  },
  {
   "cell_type": "code",
   "execution_count": 20,
   "metadata": {},
   "outputs": [],
   "source": [
    "import tensorflow as tf"
   ]
  },
  {
   "cell_type": "code",
   "execution_count": 21,
   "metadata": {},
   "outputs": [
    {
     "name": "stdout",
     "output_type": "stream",
     "text": [
      "Epoch 1/14\n",
      "160/160 [==============================] - 26s 166ms/step - loss: 0.6837 - acc: 0.5584 - f1_m: 0.0000e+00 - precision_m: 0.0000e+00 - recall_m: 0.0000e+00 - val_loss: 0.6657 - val_acc: 0.5622 - val_f1_m: 0.0000e+00 - val_precision_m: 0.0000e+00 - val_recall_m: 0.0000e+00\n",
      "Epoch 2/14\n",
      "160/160 [==============================] - 24s 149ms/step - loss: 0.5837 - acc: 0.6564 - f1_m: 0.3333 - precision_m: 0.6855 - recall_m: 0.2400 - val_loss: 0.4843 - val_acc: 0.7570 - val_f1_m: 0.6341 - val_precision_m: 0.9198 - val_recall_m: 0.4874\n",
      "Epoch 3/14\n",
      "160/160 [==============================] - 24s 149ms/step - loss: 0.4464 - acc: 0.7848 - f1_m: 0.6986 - precision_m: 0.8923 - recall_m: 0.5896 - val_loss: 0.4560 - val_acc: 0.7756 - val_f1_m: 0.6788 - val_precision_m: 0.9018 - val_recall_m: 0.5484\n",
      "Epoch 4/14\n",
      "160/160 [==============================] - 24s 151ms/step - loss: 0.4105 - acc: 0.8047 - f1_m: 0.7327 - precision_m: 0.8896 - recall_m: 0.6366 - val_loss: 0.4675 - val_acc: 0.7984 - val_f1_m: 0.7478 - val_precision_m: 0.8267 - val_recall_m: 0.6894\n",
      "Epoch 5/14\n",
      "160/160 [==============================] - 24s 150ms/step - loss: 0.3952 - acc: 0.8202 - f1_m: 0.7568 - precision_m: 0.8937 - recall_m: 0.6715 - val_loss: 0.4634 - val_acc: 0.7980 - val_f1_m: 0.7349 - val_precision_m: 0.8569 - val_recall_m: 0.6479\n",
      "Epoch 6/14\n",
      "160/160 [==============================] - 24s 149ms/step - loss: 0.3814 - acc: 0.8231 - f1_m: 0.7631 - precision_m: 0.9018 - recall_m: 0.6739 - val_loss: 0.4796 - val_acc: 0.7989 - val_f1_m: 0.7391 - val_precision_m: 0.8503 - val_recall_m: 0.6593\n",
      "Epoch 7/14\n",
      "160/160 [==============================] - 23s 147ms/step - loss: 0.3744 - acc: 0.8266 - f1_m: 0.7697 - precision_m: 0.8979 - recall_m: 0.6886 - val_loss: 0.4841 - val_acc: 0.7962 - val_f1_m: 0.7417 - val_precision_m: 0.8285 - val_recall_m: 0.6772\n",
      "Epoch 8/14\n",
      "160/160 [==============================] - 23s 145ms/step - loss: 0.3677 - acc: 0.8313 - f1_m: 0.7756 - precision_m: 0.9004 - recall_m: 0.6926 - val_loss: 0.4858 - val_acc: 0.7948 - val_f1_m: 0.7326 - val_precision_m: 0.8476 - val_recall_m: 0.6503\n",
      "Epoch 9/14\n",
      "160/160 [==============================] - 23s 144ms/step - loss: 0.3635 - acc: 0.8335 - f1_m: 0.7783 - precision_m: 0.9111 - recall_m: 0.6917 - val_loss: 0.4973 - val_acc: 0.7843 - val_f1_m: 0.7141 - val_precision_m: 0.8456 - val_recall_m: 0.6235\n",
      "Epoch 10/14\n",
      "160/160 [==============================] - 24s 149ms/step - loss: 0.3597 - acc: 0.8382 - f1_m: 0.7899 - precision_m: 0.9041 - recall_m: 0.7134 - val_loss: 0.5088 - val_acc: 0.7834 - val_f1_m: 0.7106 - val_precision_m: 0.8527 - val_recall_m: 0.6144\n",
      "Epoch 11/14\n",
      "160/160 [==============================] - 25s 158ms/step - loss: 0.3577 - acc: 0.8368 - f1_m: 0.7846 - precision_m: 0.9025 - recall_m: 0.7053 - val_loss: 0.4988 - val_acc: 0.7870 - val_f1_m: 0.7233 - val_precision_m: 0.8345 - val_recall_m: 0.6434\n",
      "Epoch 12/14\n",
      "160/160 [==============================] - 24s 153ms/step - loss: 0.3529 - acc: 0.8427 - f1_m: 0.7926 - precision_m: 0.9065 - recall_m: 0.7152 - val_loss: 0.5170 - val_acc: 0.7852 - val_f1_m: 0.7169 - val_precision_m: 0.8407 - val_recall_m: 0.6305\n",
      "Epoch 13/14\n",
      "160/160 [==============================] - 24s 153ms/step - loss: 0.3504 - acc: 0.8432 - f1_m: 0.7908 - precision_m: 0.9075 - recall_m: 0.7131 - val_loss: 0.5216 - val_acc: 0.7816 - val_f1_m: 0.7226 - val_precision_m: 0.8125 - val_recall_m: 0.6568\n",
      "Epoch 14/14\n",
      "160/160 [==============================] - 25s 156ms/step - loss: 0.3475 - acc: 0.8432 - f1_m: 0.7955 - precision_m: 0.9084 - recall_m: 0.7182 - val_loss: 0.5198 - val_acc: 0.7816 - val_f1_m: 0.7189 - val_precision_m: 0.8201 - val_recall_m: 0.6461\n",
      "69/69 [==============================] - 4s 59ms/step - loss: 0.5198 - acc: 0.7816 - f1_m: 0.7116 - precision_m: 0.8208 - recall_m: 0.6449\n",
      "Test set\n",
      "  Loss: 0.520\n",
      "  Accuracy: 0.782\n",
      " fº 0.712\n",
      "Epoch 1/14\n",
      "160/160 [==============================] - 4s 28ms/step - loss: 0.6797 - acc: 0.5584 - f1_m: 0.0000e+00 - precision_m: 0.0000e+00 - recall_m: 0.0000e+00 - val_loss: 0.6507 - val_acc: 0.5622 - val_f1_m: 0.0000e+00 - val_precision_m: 0.0000e+00 - val_recall_m: 0.0000e+00\n",
      "Epoch 2/14\n",
      "160/160 [==============================] - 2s 12ms/step - loss: 0.5400 - acc: 0.7066 - f1_m: 0.4954 - precision_m: 0.7838 - recall_m: 0.3952 - val_loss: 0.4868 - val_acc: 0.7843 - val_f1_m: 0.7177 - val_precision_m: 0.8382 - val_recall_m: 0.6326\n",
      "Epoch 3/14\n",
      "160/160 [==============================] - 2s 13ms/step - loss: 0.4403 - acc: 0.7983 - f1_m: 0.7203 - precision_m: 0.8779 - recall_m: 0.6271 - val_loss: 0.4641 - val_acc: 0.7820 - val_f1_m: 0.6927 - val_precision_m: 0.8960 - val_recall_m: 0.5687\n",
      "Epoch 4/14\n",
      "160/160 [==============================] - 2s 13ms/step - loss: 0.4097 - acc: 0.8170 - f1_m: 0.7524 - precision_m: 0.8909 - recall_m: 0.6627 - val_loss: 0.4649 - val_acc: 0.7880 - val_f1_m: 0.7081 - val_precision_m: 0.8802 - val_recall_m: 0.5971\n",
      "Epoch 5/14\n",
      "160/160 [==============================] - 2s 13ms/step - loss: 0.3946 - acc: 0.8258 - f1_m: 0.7713 - precision_m: 0.8925 - recall_m: 0.6913 - val_loss: 0.4789 - val_acc: 0.7907 - val_f1_m: 0.7247 - val_precision_m: 0.8490 - val_recall_m: 0.6381\n",
      "Epoch 6/14\n",
      "160/160 [==============================] - 2s 13ms/step - loss: 0.3790 - acc: 0.8311 - f1_m: 0.7792 - precision_m: 0.8994 - recall_m: 0.6995 - val_loss: 0.4843 - val_acc: 0.7875 - val_f1_m: 0.7252 - val_precision_m: 0.8308 - val_recall_m: 0.6495\n",
      "Epoch 7/14\n",
      "160/160 [==============================] - 2s 13ms/step - loss: 0.3693 - acc: 0.8364 - f1_m: 0.7875 - precision_m: 0.9048 - recall_m: 0.7096 - val_loss: 0.4916 - val_acc: 0.7861 - val_f1_m: 0.7234 - val_precision_m: 0.8289 - val_recall_m: 0.6488\n",
      "Epoch 8/14\n",
      "160/160 [==============================] - 2s 13ms/step - loss: 0.3598 - acc: 0.8436 - f1_m: 0.7965 - precision_m: 0.9087 - recall_m: 0.7224 - val_loss: 0.4999 - val_acc: 0.7839 - val_f1_m: 0.7220 - val_precision_m: 0.8183 - val_recall_m: 0.6531\n",
      "Epoch 9/14\n",
      "160/160 [==============================] - 2s 13ms/step - loss: 0.3526 - acc: 0.8460 - f1_m: 0.7991 - precision_m: 0.9166 - recall_m: 0.7208 - val_loss: 0.5249 - val_acc: 0.7820 - val_f1_m: 0.7279 - val_precision_m: 0.7944 - val_recall_m: 0.6780\n",
      "Epoch 10/14\n",
      "160/160 [==============================] - 2s 13ms/step - loss: 0.3414 - acc: 0.8530 - f1_m: 0.8088 - precision_m: 0.9227 - recall_m: 0.7304 - val_loss: 0.5306 - val_acc: 0.7788 - val_f1_m: 0.7171 - val_precision_m: 0.8034 - val_recall_m: 0.6539\n",
      "Epoch 11/14\n",
      "160/160 [==============================] - 2s 13ms/step - loss: 0.3340 - acc: 0.8579 - f1_m: 0.8134 - precision_m: 0.9223 - recall_m: 0.7407 - val_loss: 0.5425 - val_acc: 0.7715 - val_f1_m: 0.6971 - val_precision_m: 0.8196 - val_recall_m: 0.6128\n",
      "Epoch 12/14\n",
      "160/160 [==============================] - 2s 13ms/step - loss: 0.3220 - acc: 0.8642 - f1_m: 0.8266 - precision_m: 0.9261 - recall_m: 0.7564 - val_loss: 0.5715 - val_acc: 0.7715 - val_f1_m: 0.7066 - val_precision_m: 0.7975 - val_recall_m: 0.6413\n",
      "Epoch 13/14\n",
      "160/160 [==============================] - 2s 13ms/step - loss: 0.3070 - acc: 0.8753 - f1_m: 0.8398 - precision_m: 0.9291 - recall_m: 0.7748 - val_loss: 0.5804 - val_acc: 0.7725 - val_f1_m: 0.7039 - val_precision_m: 0.8080 - val_recall_m: 0.6310\n",
      "Epoch 14/14\n",
      "160/160 [==============================] - 2s 13ms/step - loss: 0.2955 - acc: 0.8802 - f1_m: 0.8467 - precision_m: 0.9380 - recall_m: 0.7795 - val_loss: 0.6307 - val_acc: 0.7697 - val_f1_m: 0.7081 - val_precision_m: 0.7857 - val_recall_m: 0.6521\n",
      "69/69 [==============================] - 0s 4ms/step - loss: 0.6307 - acc: 0.7697 - f1_m: 0.7024 - precision_m: 0.7847 - recall_m: 0.6524\n",
      "Test set\n",
      "  Loss: 0.631\n",
      "  Accuracy: 0.770\n",
      " fº 0.702\n"
     ]
    }
   ],
   "source": [
    "# CATEGORY 1\n",
    "X1_train, X1_test, y1_train, y1_test = train_test_split(X, Y1, test_size=0.3, random_state=42)\n",
    "\n",
    "VOCAB_SIZE=1000\n",
    "\n",
    "\n",
    "model = tf.keras.Sequential([\n",
    "    tf.keras.layers.Embedding(\n",
    "        input_dim=7309,\n",
    "        output_dim=64,\n",
    "        # Use masking to handle the variable sequence lengths\n",
    "        mask_zero=True),\n",
    "    tf.keras.layers.Bidirectional(tf.keras.layers.LSTM(64)),\n",
    "    tf.keras.layers.Dense(64, activation='relu'),\n",
    "    tf.keras.layers.Dense(1)\n",
    "])\n",
    "\n",
    "model.compile(loss=tf.keras.losses.BinaryCrossentropy(from_logits=True),\n",
    "              optimizer=tf.keras.optimizers.Adam(2e-4),\n",
    "              metrics=['acc',f1_m,precision_m, recall_m])\n",
    "\n",
    "history = model.fit(X1_train,y1_train, epochs=14,\n",
    "                    validation_data=(X1_test,y1_test), \n",
    "                    validation_steps=30)\n",
    "\n",
    "\n",
    "loss, accuracy, f1_score, precision, recall = model.evaluate(X1_test,y1_test)\n",
    "print('Test set\\n  Loss: {:0.3f}\\n  Accuracy: {:0.3f}\\n fº {:0.3f}'.format(loss,accuracy,f1_score))\n",
    "\n",
    "X1_train, X1_test, y1_train, y1_test = train_test_split(X_orig, Y1, test_size=0.3, random_state=42)\n",
    "\n",
    "VOCAB_SIZE=1000\n",
    "encoder = tf.keras.layers.experimental.preprocessing.TextVectorization(\n",
    "    max_tokens=VOCAB_SIZE)\n",
    "encoder.adapt(np.asarray(X1_train))\n",
    "\n",
    "model = tf.keras.Sequential([\n",
    "    encoder,\n",
    "    tf.keras.layers.Embedding(\n",
    "        input_dim=len(encoder.get_vocabulary()),\n",
    "        output_dim=64,\n",
    "        # Use masking to handle the variable sequence lengths\n",
    "        mask_zero=True),\n",
    "    tf.keras.layers.Bidirectional(tf.keras.layers.LSTM(64)),\n",
    "    tf.keras.layers.Dense(64, activation='relu'),\n",
    "    tf.keras.layers.Dense(1)\n",
    "])\n",
    "\n",
    "model.compile(loss=tf.keras.losses.BinaryCrossentropy(from_logits=True),\n",
    "              optimizer=tf.keras.optimizers.Adam(2e-4),\n",
    "              metrics=['acc',f1_m,precision_m, recall_m])\n",
    "\n",
    "history = model.fit(X1_train,y1_train, epochs=14,\n",
    "                    validation_data=(X1_test,y1_test), \n",
    "                    validation_steps=30)\n",
    "\n",
    "\n",
    "loss, accuracy, f1_score, precision, recall = model.evaluate(X1_test,y1_test)\n",
    "print('Test set\\n  Loss: {:0.3f}\\n  Accuracy: {:0.3f}\\n fº {:0.3f}'.format(loss,accuracy,f1_score))\n",
    "\n",
    "\n",
    "\n"
   ]
  },
  {
   "cell_type": "markdown",
   "metadata": {},
   "source": [
    "### 3.2. Bi-LSTM Applied to Category II - Tweets promotiong Eating Disorders"
   ]
  },
  {
   "cell_type": "code",
   "execution_count": null,
   "metadata": {},
   "outputs": [],
   "source": []
  },
  {
   "cell_type": "code",
   "execution_count": null,
   "metadata": {},
   "outputs": [],
   "source": []
  },
  {
   "cell_type": "code",
   "execution_count": null,
   "metadata": {},
   "outputs": [],
   "source": []
  },
  {
   "cell_type": "code",
   "execution_count": null,
   "metadata": {},
   "outputs": [],
   "source": []
  },
  {
   "cell_type": "code",
   "execution_count": null,
   "metadata": {},
   "outputs": [],
   "source": []
  },
  {
   "cell_type": "code",
   "execution_count": null,
   "metadata": {},
   "outputs": [],
   "source": []
  },
  {
   "cell_type": "code",
   "execution_count": null,
   "metadata": {},
   "outputs": [],
   "source": []
  },
  {
   "cell_type": "code",
   "execution_count": null,
   "metadata": {},
   "outputs": [],
   "source": []
  },
  {
   "cell_type": "code",
   "execution_count": null,
   "metadata": {},
   "outputs": [],
   "source": []
  },
  {
   "cell_type": "code",
   "execution_count": null,
   "metadata": {},
   "outputs": [],
   "source": []
  },
  {
   "cell_type": "code",
   "execution_count": null,
   "metadata": {},
   "outputs": [],
   "source": []
  },
  {
   "cell_type": "code",
   "execution_count": null,
   "metadata": {},
   "outputs": [],
   "source": []
  },
  {
   "cell_type": "code",
   "execution_count": null,
   "metadata": {},
   "outputs": [],
   "source": []
  },
  {
   "cell_type": "code",
   "execution_count": null,
   "metadata": {},
   "outputs": [],
   "source": []
  },
  {
   "cell_type": "code",
   "execution_count": null,
   "metadata": {},
   "outputs": [],
   "source": []
  },
  {
   "cell_type": "code",
   "execution_count": null,
   "metadata": {},
   "outputs": [],
   "source": []
  },
  {
   "cell_type": "code",
   "execution_count": null,
   "metadata": {},
   "outputs": [],
   "source": []
  },
  {
   "cell_type": "code",
   "execution_count": null,
   "metadata": {},
   "outputs": [],
   "source": []
  },
  {
   "cell_type": "code",
   "execution_count": null,
   "metadata": {},
   "outputs": [],
   "source": []
  },
  {
   "cell_type": "code",
   "execution_count": null,
   "metadata": {},
   "outputs": [],
   "source": []
  },
  {
   "cell_type": "code",
   "execution_count": null,
   "metadata": {},
   "outputs": [],
   "source": []
  },
  {
   "cell_type": "code",
   "execution_count": null,
   "metadata": {},
   "outputs": [],
   "source": []
  },
  {
   "cell_type": "code",
   "execution_count": null,
   "metadata": {},
   "outputs": [],
   "source": []
  },
  {
   "cell_type": "code",
   "execution_count": 25,
   "metadata": {},
   "outputs": [],
   "source": []
  },
  {
   "cell_type": "code",
   "execution_count": null,
   "metadata": {},
   "outputs": [],
   "source": []
  },
  {
   "cell_type": "code",
   "execution_count": null,
   "metadata": {},
   "outputs": [],
   "source": []
  },
  {
   "cell_type": "code",
   "execution_count": null,
   "metadata": {},
   "outputs": [],
   "source": []
  }
 ],
 "metadata": {
  "kernelspec": {
   "display_name": "Python 3 (ipykernel)",
   "language": "python",
   "name": "python3"
  },
  "language_info": {
   "codemirror_mode": {
    "name": "ipython",
    "version": 3
   },
   "file_extension": ".py",
   "mimetype": "text/x-python",
   "name": "python",
   "nbconvert_exporter": "python",
   "pygments_lexer": "ipython3",
   "version": "3.7.11"
  }
 },
 "nbformat": 4,
 "nbformat_minor": 4
}
